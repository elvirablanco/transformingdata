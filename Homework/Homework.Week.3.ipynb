{
 "cells": [
  {
   "cell_type": "markdown",
   "metadata": {},
   "source": [
    "***Data Transformations Week 3***\n"
   ]
  },
  {
   "cell_type": "markdown",
   "metadata": {},
   "source": [
    "Define a procedure histogram() that takes a list of integers and prints a histogram to the screen. For example, histogram([4, 9, 7]) should print the following:\n",
    "```\n",
    "****\n",
    "*********\n",
    "*******\n",
    "```"
   ]
  },
  {
   "cell_type": "code",
   "execution_count": 1,
   "metadata": {
    "collapsed": false
   },
   "outputs": [
    {
     "name": "stdout",
     "output_type": "stream",
     "text": [
      "****\n",
      "*********\n",
      "*******\n",
      "*********\n",
      "****\n",
      "*******\n",
      "\n",
      "\n",
      "*\n",
      "**\n",
      "****\n",
      "******\n",
      "******************\n",
      "******************************\n",
      "******************************************\n",
      "******************************************************\n",
      "******************************************************************\n",
      "******************************************************************************\n",
      "******************************************************************************************\n",
      "******************************************************************************************************\n",
      "******************************************************************************************************************\n",
      "******************************************************************************************************************************\n",
      "******************************************************************************************************************************************\n",
      "******************************************************************************************************************************************************\n",
      "******************************************************************************************************************************************************************\n",
      "******************************************************************************************************************************************************************************\n",
      "******************************************************************************************************************************************************************************************\n",
      "******************************************************************************************************************************************************************************************************\n",
      "******************************************************************************************************************************************************************************************************************\n",
      "******************************************************************************************************************************************************************************************************************************\n",
      "******************************************************************************************************************************************************************************************************************************************\n",
      "******************************************************************************************************************************************************************************************************************************************************\n",
      "******************************************************************************************************************************************************************************************************************************************************************\n",
      "******************************************************************************************************************************************************************************************************************************************************************************\n",
      "******************************************************************************************************************************************************************************************************************************************************************************************\n",
      "******************************************************************************************************************************************************************************************************************************************************************************************************\n"
     ]
    }
   ],
   "source": [
    "def histogram(an_array):\n",
    "    for n in an_array:\n",
    "        output = ''\n",
    "        times = n\n",
    "        while (times > 0):\n",
    "            output += '*'\n",
    "            times = times-1\n",
    "        print (output)\n",
    "    \n",
    "#tests\n",
    "histogram([4, 9, 7])\n",
    "histogram([9, 4, 7])\n",
    "\n",
    "histogram([])\n",
    "histogram([0])\n",
    " # hmmm what should these do?\n",
    "histogram([-1])\n",
    "histogram([1,2,3.14159])\n",
    "histogram(range(6, 300, 12))\n",
    "\n"
   ]
  },
  {
   "cell_type": "markdown",
   "metadata": {},
   "source": [
    "Modify histogram() to sort the list and print the number in parentheses at the end of each bar. Use the same test set as before."
   ]
  },
  {
   "cell_type": "code",
   "execution_count": null,
   "metadata": {
    "collapsed": true
   },
   "outputs": [],
   "source": []
  },
  {
   "cell_type": "markdown",
   "metadata": {},
   "source": [
    "**Some string formatting exercises:**"
   ]
  },
  {
   "cell_type": "markdown",
   "metadata": {},
   "source": [
    "print the numbers 0 to 1000 in 5 columns and pad each number with 0's so that they each appear as 5 digit numbers. The first two rows should look like\n",
    "```\n",
    "00000 00001 00002 00003 00004\n",
    "00005 00006 00007 00008 00009\n",
    "```"
   ]
  },
  {
   "cell_type": "code",
   "execution_count": 9,
   "metadata": {
    "collapsed": false
   },
   "outputs": [
    {
     "ename": "AttributeError",
     "evalue": "'set' object has no attribute 'format'",
     "output_type": "error",
     "traceback": [
      "\u001b[0;31m---------------------------------------------------------------------------\u001b[0m",
      "\u001b[0;31mAttributeError\u001b[0m                            Traceback (most recent call last)",
      "\u001b[0;32m<ipython-input-9-d35133bffb76>\u001b[0m in \u001b[0;36m<module>\u001b[0;34m()\u001b[0m\n\u001b[1;32m      1\u001b[0m \u001b[0;32mfor\u001b[0m \u001b[0mi\u001b[0m \u001b[0;32min\u001b[0m \u001b[0mrange\u001b[0m \u001b[0;34m(\u001b[0m\u001b[0;36m0\u001b[0m\u001b[0;34m,\u001b[0m\u001b[0;36m1001\u001b[0m\u001b[0;34m,\u001b[0m\u001b[0;36m5\u001b[0m\u001b[0;34m)\u001b[0m\u001b[0;34m:\u001b[0m\u001b[0;34m\u001b[0m\u001b[0m\n\u001b[1;32m      2\u001b[0m     \u001b[0;32mfor\u001b[0m \u001b[0mj\u001b[0m \u001b[0;32min\u001b[0m \u001b[0mrange\u001b[0m\u001b[0;34m(\u001b[0m\u001b[0;36m5\u001b[0m\u001b[0;34m)\u001b[0m\u001b[0;34m:\u001b[0m\u001b[0;34m\u001b[0m\u001b[0m\n\u001b[0;32m----> 3\u001b[0;31m         \u001b[0mprint\u001b[0m\u001b[0;34m(\u001b[0m\u001b[0;34m{\u001b[0m\u001b[0;34m'0>5d'\u001b[0m\u001b[0;34m}\u001b[0m\u001b[0;34m.\u001b[0m\u001b[0mformat\u001b[0m\u001b[0;34m(\u001b[0m\u001b[0mi\u001b[0m\u001b[0;34m+\u001b[0m\u001b[0mj\u001b[0m\u001b[0;34m)\u001b[0m\u001b[0;34m,\u001b[0m \u001b[0;34m\"\"\u001b[0m\u001b[0;34m,\u001b[0m \u001b[0mend\u001b[0m\u001b[0;34m=\u001b[0m\u001b[0;34m\"\"\u001b[0m\u001b[0;34m)\u001b[0m\u001b[0;34m\u001b[0m\u001b[0m\n\u001b[0m\u001b[1;32m      4\u001b[0m         \u001b[0mprint\u001b[0m \u001b[0;34m(\u001b[0m\u001b[0;34m)\u001b[0m\u001b[0;34m\u001b[0m\u001b[0m\n",
      "\u001b[0;31mAttributeError\u001b[0m: 'set' object has no attribute 'format'"
     ]
    }
   ],
   "source": [
    "for i in range (0,1001,5):\n",
    "    for j in range(5):\n",
    "        print({'0>5d'}.format(i+j), \"\", end=\"\")\n",
    "        print ()"
   ]
  },
  {
   "cell_type": "markdown",
   "metadata": {},
   "source": [
    "Define a base_converter() function that takes a decimal number and returns a string showing the original decimal number (with commas as thousands separators), the number in hex (start with '0x' and a space between each four digits), in octal, and binary. "
   ]
  },
  {
   "cell_type": "code",
   "execution_count": null,
   "metadata": {
    "collapsed": false
   },
   "outputs": [],
   "source": [
    "def base_converter(decimal_integer):\n",
    "    result = \"\"\n",
    "    #your code\n",
    "    \n",
    "    #end of your code\n",
    "    return(result)\n",
    "    \n",
    "#testing\n",
    "print(base_converter(0))\n",
    "\n",
    "print(base_converter(1))\n",
    "\n",
    "print(base_converter(15))\n",
    "\n",
    "print(base_converter(16))\n",
    "\n",
    "from datetime import date\n",
    "print(base_converter(date.today().toordinal()))\n",
    "\n",
    "for i in range(64):\n",
    "    print(histogram(i))\n",
    "    print(base_converter(i))\n",
    "\n",
    "\n"
   ]
  },
  {
   "cell_type": "markdown",
   "metadata": {},
   "source": [
    "Define 5 dictionaries which quantify a set of at least 5 adjectives"
   ]
  },
  {
   "cell_type": "code",
   "execution_count": 10,
   "metadata": {
    "collapsed": false
   },
   "outputs": [
    {
     "name": "stdout",
     "output_type": "stream",
     "text": [
      "7\n",
      "4\n",
      "5\n",
      "6\n",
      "5\n"
     ]
    }
   ],
   "source": [
    "adjectives1 = {'beautiful': 9, \"sublime\": 7, \"ugly\": 4, \"short\": 5, \"shy\": 3} \n",
    "adjectives2 = {'rude': 4, \"elegant\": 7, \"big\": 3, \"low\": 3, \"white\": 5}\n",
    "adjectives3 = {'quiet': 4, \"melancholy\": 10, \"sad\": 3, \"excited\": 7, \"surprised\": 9}\n",
    "adjectives4 = {'ashamed': 7, \"stressed\": 8, \"cute\": 4, \"blue\": 4, \"sleepy\": 6}\n",
    "adjectives5 = {'tall': 4, \"yellow\": 6, \"green\": 5, \"magenta\": 7, \"rainy\": 5}\n",
    "\n",
    "for key in adjectives5:\n",
    "    print (adjectives5[key])"
   ]
  },
  {
   "cell_type": "markdown",
   "metadata": {},
   "source": [
    "**Data scraping**\n",
    "\n",
    "Use open and readlines() to read the file data/wine.txt into an array.\n",
    "\n",
    "Print all the four star reviews without any stars.\n",
    "\n",
    "Print the star ratings of all the reviews with the word \"good\" in them.\n"
   ]
  },
  {
   "cell_type": "code",
   "execution_count": 14,
   "metadata": {
    "collapsed": false
   },
   "outputs": [],
   "source": [
    "file = open('/Users/elvirablanco/documents/transformingdata-master 2/Homework/data/wine.txt')"
   ]
  },
  {
   "cell_type": "code",
   "execution_count": 15,
   "metadata": {
    "collapsed": false
   },
   "outputs": [
    {
     "ename": "UnicodeDecodeError",
     "evalue": "'utf-8' codec can't decode byte 0xa3 in position 80292: invalid start byte",
     "output_type": "error",
     "traceback": [
      "\u001b[0;31m---------------------------------------------------------------------------\u001b[0m",
      "\u001b[0;31mUnicodeDecodeError\u001b[0m                        Traceback (most recent call last)",
      "\u001b[0;32m<ipython-input-15-3c01988a04ac>\u001b[0m in \u001b[0;36m<module>\u001b[0;34m()\u001b[0m\n\u001b[0;32m----> 1\u001b[0;31m \u001b[0mwine\u001b[0m \u001b[0;34m=\u001b[0m \u001b[0mfile\u001b[0m\u001b[0;34m.\u001b[0m\u001b[0mread\u001b[0m\u001b[0;34m(\u001b[0m\u001b[0;34m)\u001b[0m\u001b[0;34m\u001b[0m\u001b[0m\n\u001b[0m",
      "\u001b[0;32m//anaconda/lib/python3.5/codecs.py\u001b[0m in \u001b[0;36mdecode\u001b[0;34m(self, input, final)\u001b[0m\n\u001b[1;32m    319\u001b[0m         \u001b[0;31m# decode input (taking the buffer into account)\u001b[0m\u001b[0;34m\u001b[0m\u001b[0;34m\u001b[0m\u001b[0m\n\u001b[1;32m    320\u001b[0m         \u001b[0mdata\u001b[0m \u001b[0;34m=\u001b[0m \u001b[0mself\u001b[0m\u001b[0;34m.\u001b[0m\u001b[0mbuffer\u001b[0m \u001b[0;34m+\u001b[0m \u001b[0minput\u001b[0m\u001b[0;34m\u001b[0m\u001b[0m\n\u001b[0;32m--> 321\u001b[0;31m         \u001b[0;34m(\u001b[0m\u001b[0mresult\u001b[0m\u001b[0;34m,\u001b[0m \u001b[0mconsumed\u001b[0m\u001b[0;34m)\u001b[0m \u001b[0;34m=\u001b[0m \u001b[0mself\u001b[0m\u001b[0;34m.\u001b[0m\u001b[0m_buffer_decode\u001b[0m\u001b[0;34m(\u001b[0m\u001b[0mdata\u001b[0m\u001b[0;34m,\u001b[0m \u001b[0mself\u001b[0m\u001b[0;34m.\u001b[0m\u001b[0merrors\u001b[0m\u001b[0;34m,\u001b[0m \u001b[0mfinal\u001b[0m\u001b[0;34m)\u001b[0m\u001b[0;34m\u001b[0m\u001b[0m\n\u001b[0m\u001b[1;32m    322\u001b[0m         \u001b[0;31m# keep undecoded input until the next call\u001b[0m\u001b[0;34m\u001b[0m\u001b[0;34m\u001b[0m\u001b[0m\n\u001b[1;32m    323\u001b[0m         \u001b[0mself\u001b[0m\u001b[0;34m.\u001b[0m\u001b[0mbuffer\u001b[0m \u001b[0;34m=\u001b[0m \u001b[0mdata\u001b[0m\u001b[0;34m[\u001b[0m\u001b[0mconsumed\u001b[0m\u001b[0;34m:\u001b[0m\u001b[0;34m]\u001b[0m\u001b[0;34m\u001b[0m\u001b[0m\n",
      "\u001b[0;31mUnicodeDecodeError\u001b[0m: 'utf-8' codec can't decode byte 0xa3 in position 80292: invalid start byte"
     ]
    }
   ],
   "source": [
    "wine = file.read()"
   ]
  },
  {
   "cell_type": "code",
   "execution_count": null,
   "metadata": {
    "collapsed": true
   },
   "outputs": [],
   "source": []
  }
 ],
 "metadata": {
  "kernelspec": {
   "display_name": "Python 3",
   "language": "python",
   "name": "python3"
  },
  "language_info": {
   "codemirror_mode": {
    "name": "ipython",
    "version": 3
   },
   "file_extension": ".py",
   "mimetype": "text/x-python",
   "name": "python",
   "nbconvert_exporter": "python",
   "pygments_lexer": "ipython3",
   "version": "3.5.1"
  }
 },
 "nbformat": 4,
 "nbformat_minor": 0
}
